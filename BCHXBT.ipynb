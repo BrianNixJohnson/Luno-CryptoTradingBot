{
  "nbformat": 4,
  "nbformat_minor": 0,
  "metadata": {
    "colab": {
      "name": "BCHXBT.ipynb",
      "provenance": [],
      "collapsed_sections": [],
      "authorship_tag": "ABX9TyOxQrubPtiLR60DTJ8N0mlK",
      "include_colab_link": true
    },
    "kernelspec": {
      "name": "python3",
      "display_name": "Python 3"
    }
  },
  "cells": [
    {
      "cell_type": "markdown",
      "metadata": {
        "id": "view-in-github",
        "colab_type": "text"
      },
      "source": [
        "<a href=\"https://colab.research.google.com/github/itsmihhhhhh/Luno-CryptoTradingBot/blob/master/BCHXBT.ipynb\" target=\"_parent\"><img src=\"https://colab.research.google.com/assets/colab-badge.svg\" alt=\"Open In Colab\"/></a>"
      ]
    },
    {
      "cell_type": "code",
      "metadata": {
        "id": "IABph0IojjvI",
        "colab_type": "code",
        "colab": {}
      },
      "source": [
        "!pip install luno_python\n",
        "!pip install mpl_finance\n",
        "!pip install pyti\n",
        "!pip install numpy"
      ],
      "execution_count": null,
      "outputs": []
    },
    {
      "cell_type": "code",
      "metadata": {
        "id": "yJRPG_UCjmiA",
        "colab_type": "code",
        "colab": {}
      },
      "source": [
        "from luno_python.client import Client\n",
        "c = Client(api_key_id='', api_key_secret='')\n",
        "try:\n",
        "  ticker = c.get_ticker(pair='BCHXBT')\n",
        "  print(ticker)\n",
        "except Exception as e:\n",
        "  print(e)\n",
        "\n",
        "ticker['last_trade']"
      ],
      "execution_count": null,
      "outputs": []
    },
    {
      "cell_type": "code",
      "metadata": {
        "id": "NGlu0XlUsGUu",
        "colab_type": "code",
        "colab": {}
      },
      "source": [
        "res = c.get_order_book(pair='BCHXBT')\n",
        "res"
      ],
      "execution_count": null,
      "outputs": []
    },
    {
      "cell_type": "code",
      "metadata": {
        "id": "jicTLlYZsJiM",
        "colab_type": "code",
        "colab": {}
      },
      "source": [
        "balance = c.get_balances(assets=['BCH','XBT'])\n",
        "balBCH = balance['balance'][0]['balance']\n",
        "balXBT = balance['balance'][1]['balance']\n",
        "balBCH"
      ],
      "execution_count": null,
      "outputs": []
    },
    {
      "cell_type": "code",
      "metadata": {
        "id": "LnrL0R5mMkR9",
        "colab_type": "code",
        "colab": {}
      },
      "source": [
        "enter_trade = False"
      ],
      "execution_count": null,
      "outputs": []
    },
    {
      "cell_type": "code",
      "metadata": {
        "id": "BbB7yeWBsX1v",
        "colab_type": "code",
        "colab": {}
      },
      "source": [
        "!pip install tulipy\n",
        "import tulipy as ti\n",
        "\n",
        "rsiPeriod = 14\n",
        "upper_rsi = 70.0\n",
        "lower_rsi = 30.0"
      ],
      "execution_count": null,
      "outputs": []
    },
    {
      "cell_type": "code",
      "metadata": {
        "id": "vh1p2j0xscZY",
        "colab_type": "code",
        "colab": {}
      },
      "source": [
        "res = c.get_order_book(pair='BCHXBT')\n",
        "len(res['asks'])"
      ],
      "execution_count": null,
      "outputs": []
    },
    {
      "cell_type": "code",
      "metadata": {
        "id": "J-l_1QkJsdEE",
        "colab_type": "code",
        "colab": {}
      },
      "source": [
        "import sched, time\n",
        "import numpy as np\n",
        "\n",
        "\n",
        "#Initiate our scheduler so we can keep checking every minute for new price changes\n",
        "s = sched.scheduler(time.time, time.sleep)\n",
        "\n",
        "# This function is run every 15 minutes\n",
        "\n",
        "def run(sc): \n",
        "\n",
        "    #Get prices from Luno\n",
        "    res = c.get_order_book(pair='BCHXBT')\n",
        "    closePrices = c.list_trades(pair='BCHXBT')\n",
        "    pricedata = []\n",
        "    for x in range(0,len(closePrices['trades'])):\n",
        "        pricedata.append(float(closePrices['trades'][x]['price']))\n",
        "    DATA = np.array(pricedata)\n",
        "\n",
        "    askdata = []\n",
        "    for x in range(0,len(res['asks'])):\n",
        "        askdata.append(float(res['asks'][x]['price']))\n",
        "    DATAA = np.array(askdata)\n",
        "\n",
        "    biddata = []\n",
        "    for x in range(0,len(res['bids'])):\n",
        "        biddata.append(float(res['bids'][x]['price']))\n",
        "    DATAB = np.array(biddata)\n",
        "\n",
        "    #Calculate Indicators\n",
        "    #iRSI = ti.rsi(DATA, period=14)\n",
        "    BB = ti.bbands(DATA, period=20, stddev=2)\n",
        "    BB1 = ti.bbands(DATA, period=20, stddev=1)\n",
        "    MA = ti.sma(DATA, period=5)\n",
        "    MAA = ti.sma(DATAA, period=3)\n",
        "    MAB = ti.sma(DATAB, period=5)\n",
        "\n",
        "    #Trading logic by Moving average line\n",
        "    if (MAB[0] < pricedata[0] < MA[0] and float(balBCH)<0.12):\n",
        "        print(\"Buying, price is low!\")\n",
        "        try:\n",
        "          '''\n",
        "          if (price == float(res['asks'][0]['price'])):\n",
        "            c.post_market_order(pair='BCHXBT', type='BUY', counter_volume='0.03')\n",
        "            print(\"Buy Successfully at price: \", price)\n",
        "            enter_trade = True\n",
        "          else:\n",
        "          '''\n",
        "          c.post_limit_order(pair='BCHXBT', type='BID', volume='0.03', price = pricedata[0])\n",
        "          print(\"Post limit order, Buy Successfully at price: \", pricedata[0])\n",
        "          enter_trade = True\n",
        "        except Exception as e:\n",
        "          print(e)\n",
        "          enter_trade = False\n",
        "\n",
        "    if (MA[0] < pricedata[0] < MAA[0]):\n",
        "        print(\"Selling, price is high!\")\n",
        "        try:\n",
        "          '''\n",
        "          if (price == float(res['bids'][0]['price'])):\n",
        "            c.post_market_order(pair='BCHXBT', type='SELL', base_volume='0.02')\n",
        "            print(\"Sell Successfully at price.\", price)\n",
        "            enter_trade = False\n",
        "          else:\n",
        "          '''\n",
        "          c.post_limit_order(pair='BCHXBT', type='ASK', volume='0.03', price = pricedata[0])\n",
        "          print(\"Post limit order, Sell Successfully at price.\", pricedata[0])\n",
        "          enter_trade = False\n",
        "        except Exception as e:\n",
        "          print(e)\n",
        "          enter_trade = True\n",
        "   \n",
        "    '''\n",
        "    current_price = float(closePrices['trades'][0]['price'])\n",
        "    \n",
        "    if pricedata[0] < BB[0][0]:\n",
        "        print(\"Buying, price is low!\")\n",
        "        enter(\"B\")\n",
        "\n",
        "    if pricedata[0] > BB[2][0]:\n",
        "        print(\"Selling, price is high!\")\n",
        "        enter(\"S\")\n",
        "\n",
        "    //\n",
        "\n",
        "    if (BB[1][0] > current_price > BB1[0][0]):\n",
        "        print(\"Buying, price is low!\")\n",
        "        enter(\"B\")\n",
        "\n",
        "    if (BB[1][0] < current_price < BB1[2][0]):\n",
        "        print(\"Selling, price is high!\")\n",
        "        enter(\"S\")\n",
        "    \n",
        "    if (BB1[0][0] > current_price > BB[0][0]):\n",
        "        print(\"Price might go down, sell to cut lost\")\n",
        "        enter(\"S\")\n",
        "\n",
        "    if (BB1[2][0] < current_price < BB[2][0]):\n",
        "        print(\"Price might go up, buy now\")\n",
        "        enter(\"B\")\n",
        "    '''\n",
        "\n",
        "    print(\"Current price: \", pricedata[0])  \n",
        "    \n",
        "    print(\"MA bid(low): \", MAB[0])\n",
        "    print(\"MA middle: \", MA[0])\n",
        "    print(\"MA ask(high): \", MAA[0])\n",
        "    print(\"BBand lower: \", BB[0][0])\n",
        "    print(\"BBand middle: \", BB[1][0])\n",
        "    print(\"BBand upper \", BB[2][0])\n",
        "\n",
        "  \n",
        "    print(\"                               Bot working, checking...\")\n",
        "\n",
        "    #call this method again every 5 minutes for new price changes\n",
        "    s.enter(1000, 1, run, (sc,))\n",
        "    \n",
        "s.enter(1, 1, run, (s,))\n",
        "\n",
        "s.run()"
      ],
      "execution_count": null,
      "outputs": []
    }
  ]
}