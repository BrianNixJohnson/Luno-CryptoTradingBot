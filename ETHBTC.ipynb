{
  "nbformat": 4,
  "nbformat_minor": 0,
  "metadata": {
    "colab": {
      "name": "ETHBTC.ipynb",
      "provenance": [],
      "authorship_tag": "ABX9TyPn6I6KOswdsx1k6zd61WZA",
      "include_colab_link": true
    },
    "kernelspec": {
      "name": "python3",
      "display_name": "Python 3"
    }
  },
  "cells": [
    {
      "cell_type": "markdown",
      "metadata": {
        "id": "view-in-github",
        "colab_type": "text"
      },
      "source": [
        "<a href=\"https://colab.research.google.com/github/itsmihhhhhh/Luno-CryptoTradingBot/blob/master/ETHBTC.ipynb\" target=\"_parent\"><img src=\"https://colab.research.google.com/assets/colab-badge.svg\" alt=\"Open In Colab\"/></a>"
      ]
    },
    {
      "cell_type": "code",
      "metadata": {
        "id": "2o9p_dsqvQlU",
        "colab_type": "code",
        "colab": {}
      },
      "source": [
        "!pip install luno_python\n",
        "!pip install mpl_finance\n",
        "!pip install pyti\n",
        "!pip install numpy"
      ],
      "execution_count": null,
      "outputs": []
    },
    {
      "cell_type": "code",
      "metadata": {
        "id": "7Kk821fQvVQv",
        "colab_type": "code",
        "colab": {}
      },
      "source": [
        "from luno_python.client import Client\n",
        "c = Client(api_key_id='', api_key_secret='')\n",
        "try:\n",
        "  ticker = c.get_ticker(pair='ETHXBT')\n",
        "  print(ticker)\n",
        "except Exception as e:\n",
        "  print(e)\n",
        "\n",
        "ticker['last_trade']"
      ],
      "execution_count": null,
      "outputs": []
    },
    {
      "cell_type": "code",
      "metadata": {
        "id": "fETFq_y31wrn",
        "colab_type": "code",
        "colab": {}
      },
      "source": [
        "res = c.get_order_book(pair='ETHXBT')\n",
        "res"
      ],
      "execution_count": null,
      "outputs": []
    },
    {
      "cell_type": "code",
      "metadata": {
        "id": "AvQlDXg7vsyy",
        "colab_type": "code",
        "colab": {
          "base_uri": "https://localhost:8080/",
          "height": 36
        },
        "outputId": "559d092a-8550-4625-f432-49f39170dbd8"
      },
      "source": [
        "balance = c.get_balances(assets=['ETH','XBT'])\n",
        "balXBT = balance['balance'][0]['balance']\n",
        "balETH = balance['balance'][1]['balance']\n",
        "balETH\n",
        "balXBT\n",
        "round(float(balETH),2)\n",
        "balETH\n"
      ],
      "execution_count": 14,
      "outputs": [
        {
          "output_type": "execute_result",
          "data": {
            "application/vnd.google.colaboratory.intrinsic+json": {
              "type": "string"
            },
            "text/plain": [
              "'0.099352'"
            ]
          },
          "metadata": {
            "tags": []
          },
          "execution_count": 14
        }
      ]
    },
    {
      "cell_type": "code",
      "metadata": {
        "id": "vgbsrMXGMCNb",
        "colab_type": "code",
        "colab": {
          "base_uri": "https://localhost:8080/",
          "height": 36
        },
        "outputId": "8fcabb88-ac56-405c-e239-916717a282f5"
      },
      "source": [
        "closePrices = c.list_trades(pair='ETHXBT')\n",
        "closePrices['trades'][0]['price']"
      ],
      "execution_count": 15,
      "outputs": [
        {
          "output_type": "execute_result",
          "data": {
            "application/vnd.google.colaboratory.intrinsic+json": {
              "type": "string"
            },
            "text/plain": [
              "'0.035838'"
            ]
          },
          "metadata": {
            "tags": []
          },
          "execution_count": 15
        }
      ]
    },
    {
      "cell_type": "code",
      "metadata": {
        "id": "qN9wIbhVGTS8",
        "colab_type": "code",
        "colab": {}
      },
      "source": [
        "enter_trade = True"
      ],
      "execution_count": 16,
      "outputs": []
    },
    {
      "cell_type": "code",
      "metadata": {
        "id": "abGRhjcKv2Vz",
        "colab_type": "code",
        "colab": {
          "base_uri": "https://localhost:8080/",
          "height": 52
        },
        "outputId": "f89288fc-9bf5-4185-f685-482fcb7091c2"
      },
      "source": [
        "!pip install tulipy\n",
        "import tulipy as ti\n",
        "\n",
        "rsiPeriod = 14\n",
        "upper_rsi = 70.0\n",
        "lower_rsi = 30.0"
      ],
      "execution_count": 18,
      "outputs": [
        {
          "output_type": "stream",
          "text": [
            "Requirement already satisfied: tulipy in /usr/local/lib/python3.6/dist-packages (0.4.0)\n",
            "Requirement already satisfied: numpy in /usr/local/lib/python3.6/dist-packages (from tulipy) (1.18.5)\n"
          ],
          "name": "stdout"
        }
      ]
    },
    {
      "cell_type": "code",
      "metadata": {
        "id": "8gagQtTxv4En",
        "colab_type": "code",
        "colab": {
          "base_uri": "https://localhost:8080/",
          "height": 35
        },
        "outputId": "47c8cc08-09e5-4f49-dee1-daa377f56389"
      },
      "source": [
        "res = c.get_order_book(pair='ETHXBT')\n",
        "len(res['asks'])"
      ],
      "execution_count": 19,
      "outputs": [
        {
          "output_type": "execute_result",
          "data": {
            "text/plain": [
              "100"
            ]
          },
          "metadata": {
            "tags": []
          },
          "execution_count": 19
        }
      ]
    },
    {
      "cell_type": "code",
      "metadata": {
        "id": "5vgauJ5yv64J",
        "colab_type": "code",
        "colab": {}
      },
      "source": [
        "import sched, time\n",
        "import numpy as np\n",
        "\n",
        "\n",
        "#Initiate our scheduler so we can keep checking every minute for new price changes\n",
        "s = sched.scheduler(time.time, time.sleep)\n",
        "\n",
        "# This function is run every 5 minutes\n",
        "\n",
        "def run(sc): \n",
        "\n",
        "    #Get prices from Luno\n",
        "    res = c.get_order_book(pair='ETHXBT')\n",
        "    closePrices = c.list_trades(pair='ETHXBT')\n",
        "    pricedata = []\n",
        "    for x in range(0,len(closePrices['trades'])):\n",
        "        pricedata.append(float(closePrices['trades'][x]['price']))\n",
        "    DATA = np.array(pricedata)\n",
        "\n",
        "    askdata = []\n",
        "    for x in range(0,len(res['asks'])):\n",
        "        askdata.append(float(res['asks'][x]['price']))\n",
        "    DATAA = np.array(askdata)\n",
        "\n",
        "    biddata = []\n",
        "    for x in range(0,len(res['bids'])):\n",
        "        biddata.append(float(res['bids'][x]['price']))\n",
        "    DATAB = np.array(biddata)\n",
        "\n",
        "    #Calculate Indicators\n",
        "    #iRSI = ti.rsi(DATA, period=14)\n",
        "    BB = ti.bbands(DATA, period=20, stddev=1)\n",
        "    MA = ti.sma(DATA, period=5)\n",
        "    MAA = ti.sma(DATAA, period=3)\n",
        "    MAB = ti.sma(DATAB, period=5)\n",
        "\n",
        "    \n",
        "    if (MAB[0] < pricedata[0] < MA[0] and float(balETH)<0.08):\n",
        "        print(\"Buying, price is low!\")\n",
        "        try:\n",
        "          '''\n",
        "          if (pricedata[0] == float(res['asks'][0]['price'])):\n",
        "            c.post_market_order(pair='ETHXBT', type='BUY', volume='0.01')\n",
        "            print(\"Buy Successfully at price: \", pricedata[0])\n",
        "            enter_trade = True\n",
        "          else:\n",
        "          '''\n",
        "          c.post_limit_order(pair='ETHXBT', type='BID', volume='0.03', price = pricedata[0])\n",
        "          print(\"Post limit order, buy at price: \", pricedata[0])\n",
        "          enter_trade = True\n",
        "        except Exception as e:\n",
        "          print(e)\n",
        "          enter_trade = False\n",
        "\n",
        "    \n",
        "    if (MA[0] < pricedata[0] < MAA[0]):\n",
        "        print(\"Selling, price is high!\")\n",
        "        try:\n",
        "          '''\n",
        "          if (pricedata[0] == float(res['bids'][0]['price'])):\n",
        "            c.post_market_order(pair='ETHXBT', type='SELL', base_volume='0.03')\n",
        "            print(\"Sell Successfully at price.\", pricedata[0])\n",
        "            enter_trade = False\n",
        "          else:\n",
        "          '''\n",
        "          c.post_limit_order(pair='ETHXBT', type='ASK', volume='0.03', price = pricedata[0])\n",
        "          print(\"Post limit order, sell at price.\", pricedata[0])\n",
        "          enter_trade = False\n",
        "        except Exception as e:\n",
        "          print(e)\n",
        "          enter_trade = True\n",
        "    \n",
        "    print(\"Current price: \", pricedata[0])  \n",
        "    \n",
        "    print(\"MA bid(low): \", MAB[0])\n",
        "    print(\"MA middle: \", MA[0])\n",
        "    print(\"MA ask(high): \", MAA[0])\n",
        "    print(\"BBand lower: \", BB[0][0])\n",
        "    print(\"BBand middle: \", BB[1][0])\n",
        "    print(\"BBand upper \", BB[2][0])\n",
        "\n",
        "  \n",
        "    print(\"                               Bot working, checking...\")\n",
        "\n",
        "    #call this method again every 5 minutes for new price changes\n",
        "    s.enter(1000, 1, run, (sc,))\n",
        "    \n",
        "s.enter(1, 1, run, (s,))\n",
        "\n",
        "s.run()"
      ],
      "execution_count": null,
      "outputs": []
    }
  ]
}