{
  "nbformat": 4,
  "nbformat_minor": 0,
  "metadata": {
    "colab": {
      "name": "LTCBTC.ipynb",
      "provenance": [],
      "collapsed_sections": [],
      "authorship_tag": "ABX9TyO468huwFirC6UMDr/WfnNu",
      "include_colab_link": true
    },
    "kernelspec": {
      "name": "python3",
      "display_name": "Python 3"
    }
  },
  "cells": [
    {
      "cell_type": "markdown",
      "metadata": {
        "id": "view-in-github",
        "colab_type": "text"
      },
      "source": [
        "<a href=\"https://colab.research.google.com/github/itsmihhhhhh/Luno-CryptoTradingBot/blob/master/LTCBTC.ipynb\" target=\"_parent\"><img src=\"https://colab.research.google.com/assets/colab-badge.svg\" alt=\"Open In Colab\"/></a>"
      ]
    },
    {
      "cell_type": "code",
      "metadata": {
        "id": "vOAAvEeiEtLD",
        "colab_type": "code",
        "colab": {}
      },
      "source": [
        "!pip install luno_python\n",
        "!pip install mpl_finance\n",
        "!pip install pyti\n",
        "!pip install numpy"
      ],
      "execution_count": null,
      "outputs": []
    },
    {
      "cell_type": "code",
      "metadata": {
        "id": "78kSIQF2FBqk",
        "colab_type": "code",
        "colab": {
          "base_uri": "https://localhost:8080/",
          "height": 53
        },
        "outputId": "3d7e86a2-c76e-4b4f-85da-6feef9d56610"
      },
      "source": [
        "from luno_python.client import Client\n",
        "c = Client(api_key_id='', api_key_secret='')\n",
        "try:\n",
        "  ticker = c.get_ticker(pair='LTCXBT')\n",
        "  print(ticker)\n",
        "except Exception as e:\n",
        "  print(e)\n",
        "\n",
        "ticker['last_trade']"
      ],
      "execution_count": 2,
      "outputs": [
        {
          "output_type": "stream",
          "text": [
            "{'pair': 'LTCXBT', 'timestamp': 1597568340069, 'bid': '0.005201', 'ask': '0.005205', 'last_trade': '0.005205', 'rolling_24_hour_volume': '839.44', 'status': 'ACTIVE'}\n"
          ],
          "name": "stdout"
        },
        {
          "output_type": "execute_result",
          "data": {
            "application/vnd.google.colaboratory.intrinsic+json": {
              "type": "string"
            },
            "text/plain": [
              "'0.005205'"
            ]
          },
          "metadata": {
            "tags": []
          },
          "execution_count": 2
        }
      ]
    },
    {
      "cell_type": "code",
      "metadata": {
        "id": "LfFb-8LbZL06",
        "colab_type": "code",
        "colab": {
          "base_uri": "https://localhost:8080/",
          "height": 36
        },
        "outputId": "b71c4914-5bf4-432a-9972-a911c7abfe20"
      },
      "source": [
        "balance = c.get_balances(assets=['LTC','XBT'])\n",
        "balXBT = balance['balance'][0]['balance']\n",
        "balLTC = balance['balance'][1]['balance']\n",
        "balLTC"
      ],
      "execution_count": 3,
      "outputs": [
        {
          "output_type": "execute_result",
          "data": {
            "application/vnd.google.colaboratory.intrinsic+json": {
              "type": "string"
            },
            "text/plain": [
              "'0.002525'"
            ]
          },
          "metadata": {
            "tags": []
          },
          "execution_count": 3
        }
      ]
    },
    {
      "cell_type": "code",
      "metadata": {
        "id": "cCbfV7i6IDOx",
        "colab_type": "code",
        "colab": {}
      },
      "source": [
        "enter_trade = True"
      ],
      "execution_count": 4,
      "outputs": []
    },
    {
      "cell_type": "code",
      "metadata": {
        "id": "ZnLuutWNZVQs",
        "colab_type": "code",
        "colab": {}
      },
      "source": [
        "!pip install tulipy\n",
        "import tulipy as ti\n",
        "\n",
        "rsiPeriod = 14\n",
        "upper_rsi = 70.0\n",
        "lower_rsi = 30.0"
      ],
      "execution_count": null,
      "outputs": []
    },
    {
      "cell_type": "code",
      "metadata": {
        "id": "2E32fRn7ZYVG",
        "colab_type": "code",
        "colab": {
          "base_uri": "https://localhost:8080/",
          "height": 35
        },
        "outputId": "0ad1f0fd-a4c0-4cc9-9d2b-8d63c80e0bc1"
      },
      "source": [
        "res = c.get_order_book(pair='LTCXBT')\n",
        "len(res['asks'])"
      ],
      "execution_count": 7,
      "outputs": [
        {
          "output_type": "execute_result",
          "data": {
            "text/plain": [
              "45"
            ]
          },
          "metadata": {
            "tags": []
          },
          "execution_count": 7
        }
      ]
    },
    {
      "cell_type": "code",
      "metadata": {
        "id": "ecwNZ660Zbu2",
        "colab_type": "code",
        "colab": {}
      },
      "source": [
        "import sched, time\n",
        "import numpy as np\n",
        "\n",
        "\n",
        "#Initiate our scheduler so we can keep checking every minute for new price changes\n",
        "s = sched.scheduler(time.time, time.sleep)\n",
        "\n",
        "# This function is run every 5 minutes\n",
        "\n",
        "def run(sc): \n",
        "\n",
        "    #Get prices from Luno for LTC\n",
        "    res = c.get_order_book(pair='LTCXBT')\n",
        "    closePrices = c.list_trades(pair='LTCXBT')\n",
        "    pricedata = []\n",
        "    for x in range(0,len(closePrices['trades'])):\n",
        "        pricedata.append(float(closePrices['trades'][x]['price']))\n",
        "    DATA = np.array(pricedata)\n",
        "\n",
        "    askdata = []\n",
        "    for x in range(0,len(res['asks'])):\n",
        "        askdata.append(float(res['asks'][x]['price']))\n",
        "    DATAA = np.array(askdata)\n",
        "\n",
        "    biddata = []\n",
        "    for x in range(0,len(res['bids'])):\n",
        "        biddata.append(float(res['bids'][x]['price']))\n",
        "    DATAB = np.array(biddata)\n",
        "\n",
        "    #Calculate Indicators\n",
        "    #iRSI = ti.rsi(DATA, period=14)\n",
        "    BB = ti.bbands(DATA, period=20, stddev=2)\n",
        "    BB1 = ti.bbands(DATA, period=20, stddev=1)\n",
        "    MA = ti.sma(DATA, period=5)\n",
        "    MAA = ti.sma(DATAA, period=3)\n",
        "    MAB = ti.sma(DATAB, period=5)\n",
        "\n",
        "    #TRADING LOGIC\n",
        "    '''\n",
        "    if (MAB[0] < pricedata[0] < MA[0]):\n",
        "        print(\"Buying, price is low!\")\n",
        "        enter(\"B\")\n",
        "\n",
        "    if (MA[0] < pricedata[0] < MAA[0]):\n",
        "        print(\"Selling, price is high!\")\n",
        "        enter(\"S\")\n",
        "\n",
        "    '''\n",
        "    current_price = pricedata[0]\n",
        "    if (MAB[0] < pricedata[0] < MA[0] and float(balLTC)<0.46):\n",
        "        print(\"Buying, price is low!\")\n",
        "        try:\n",
        "          c.post_limit_order(pair='LTCXBT', type='BID', volume='0.2', price = pricedata[0])\n",
        "          print(\"Post limit order. Buy Successfully at price: \", pricedata[0])\n",
        "          enter_trade = True\n",
        "        except Exception as e:\n",
        "          print(e)\n",
        "          enter_trade = False\n",
        "\n",
        "\n",
        "    if (MA[0] < pricedata[0] < MAA[0]):\n",
        "        print(\"Selling, price is high!\")\n",
        "        try:\n",
        "          c.post_limit_order(pair='LTCXBT', type='ASK', volume='0.2', price = pricedata[0])\n",
        "          print(\"Post limit order. Sell Successfully at price.\", pricedata[0])\n",
        "          enter_trade = False\n",
        "        except Exception as e:\n",
        "          print(e)\n",
        "          enter_trade = True\n",
        "    '''\n",
        "    if (BB1[0][0] > current_price > BB[0][0]):\n",
        "        print(\"Price might go down, sell to cut lost\")\n",
        "        #enter(\"S\")\n",
        "\n",
        "    if (BB1[2][0] < current_price < BB[2][0]):\n",
        "        print(\"Price might go up, buy now\")\n",
        "        #enter(\"B\")\n",
        "    '''\n",
        "    print(\"--------------------------------------\")\n",
        "    print(\"Current price for LTC: \", pricedata[0])  \n",
        "    \n",
        "    print(\"MA bid(low): \", MAB[0])\n",
        "    print(\"MA middle: \", MA[0])\n",
        "    print(\"MA ask(high): \", MAA[0])\n",
        "    print(\"BBand lower: \", BB[0][0])\n",
        "    print(\"BBand middle: \", BB[1][0])\n",
        "    print(\"BBand upper \", BB[2][0])\n",
        "  \n",
        "    print(\"                               Bot working, checking...\")\n",
        "\n",
        "    #call this method again every 5 minutes for new price changes\n",
        "    s.enter(1000, 1, run, (sc,))\n",
        "    \n",
        "s.enter(1, 1, run, (s,))\n",
        "\n",
        "s.run()"
      ],
      "execution_count": null,
      "outputs": []
    }
  ]
}