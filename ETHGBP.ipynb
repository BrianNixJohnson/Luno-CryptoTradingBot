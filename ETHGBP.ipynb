{
  "nbformat": 4,
  "nbformat_minor": 0,
  "metadata": {
    "colab": {
      "name": "ETHGBP.ipynb",
      "provenance": [],
      "authorship_tag": "ABX9TyOzPpx0JiGkRVTw27/mXpzM",
      "include_colab_link": true
    },
    "kernelspec": {
      "name": "python3",
      "display_name": "Python 3"
    }
  },
  "cells": [
    {
      "cell_type": "markdown",
      "metadata": {
        "id": "view-in-github",
        "colab_type": "text"
      },
      "source": [
        "<a href=\"https://colab.research.google.com/github/itsmihhhhhh/Luno-CryptoTradingBot/blob/master/ETHGBP.ipynb\" target=\"_parent\"><img src=\"https://colab.research.google.com/assets/colab-badge.svg\" alt=\"Open In Colab\"/></a>"
      ]
    },
    {
      "cell_type": "code",
      "metadata": {
        "id": "C2iZoXH77Jq8",
        "colab_type": "code",
        "colab": {}
      },
      "source": [
        "!pip install luno_python\n",
        "!pip install mpl_finance\n",
        "!pip install pyti\n",
        "!pip install numpy"
      ],
      "execution_count": null,
      "outputs": []
    },
    {
      "cell_type": "code",
      "metadata": {
        "id": "BUU6h7PX7ew0",
        "colab_type": "code",
        "colab": {}
      },
      "source": [
        "from luno_python.client import Client\n",
        "c = Client(api_key_id='', api_key_secret='')\n",
        "try:\n",
        "  ticker = c.get_ticker(pair='ETHGBP')\n",
        "  print(ticker)\n",
        "except Exception as e:\n",
        "  print(e)\n",
        "\n",
        "ticker['last_trade']"
      ],
      "execution_count": null,
      "outputs": []
    },
    {
      "cell_type": "code",
      "metadata": {
        "id": "Md0SAanG7g2l",
        "colab_type": "code",
        "colab": {}
      },
      "source": [
        "res = c.get_order_book(pair='ETHGBP')\n",
        "res"
      ],
      "execution_count": null,
      "outputs": []
    },
    {
      "cell_type": "code",
      "metadata": {
        "id": "QBdFAMnY7iu4",
        "colab_type": "code",
        "colab": {
          "base_uri": "https://localhost:8080/",
          "height": 36
        },
        "outputId": "6673bf65-de60-469a-83d8-1eb89e1a0e90"
      },
      "source": [
        "balance = c.get_balances(assets=['ETH','GBP'])\n",
        "balETH = balance['balance'][0]['balance']\n",
        "balGBP = balance['balance'][1]['balance']\n",
        "balGBP\n",
        "balETH"
      ],
      "execution_count": null,
      "outputs": [
        {
          "output_type": "execute_result",
          "data": {
            "application/vnd.google.colaboratory.intrinsic+json": {
              "type": "string"
            },
            "text/plain": [
              "'0.069352'"
            ]
          },
          "metadata": {
            "tags": []
          },
          "execution_count": 4
        }
      ]
    },
    {
      "cell_type": "code",
      "metadata": {
        "id": "nDSe1M5WEEsg",
        "colab_type": "code",
        "colab": {}
      },
      "source": [
        "enter_trade = True"
      ],
      "execution_count": null,
      "outputs": []
    },
    {
      "cell_type": "code",
      "metadata": {
        "id": "Hqsaz5Er7oMJ",
        "colab_type": "code",
        "colab": {}
      },
      "source": [
        "!pip install tulipy\n",
        "import tulipy as ti\n",
        "\n",
        "rsiPeriod = 14\n",
        "upper_rsi = 70.0\n",
        "lower_rsi = 30.0"
      ],
      "execution_count": null,
      "outputs": []
    },
    {
      "cell_type": "code",
      "metadata": {
        "id": "0udP7MPeF3ih",
        "colab_type": "code",
        "colab": {}
      },
      "source": [
        "res = c.get_order_book(pair='ETHGBP')\n",
        "len(res['asks'])"
      ],
      "execution_count": null,
      "outputs": []
    },
    {
      "cell_type": "code",
      "metadata": {
        "id": "ssCd6kuv7vlt",
        "colab_type": "code",
        "colab": {}
      },
      "source": [
        "import sched, time\n",
        "import numpy as np\n",
        "\n",
        "\n",
        "#Initiate our scheduler so we can keep checking every minute for new price changes\n",
        "s = sched.scheduler(time.time, time.sleep)\n",
        "\n",
        "# This function is run every 5 minutes\n",
        "\n",
        "def run(sc): \n",
        "\n",
        "    #Get prices from Luno\n",
        "    res = c.get_order_book(pair='ETHGBP')\n",
        "    closePrices = c.list_trades(pair='ETHGBP')\n",
        "    pricedata = []\n",
        "    for x in range(0,len(closePrices['trades'])):\n",
        "        pricedata.append(float(closePrices['trades'][x]['price']))\n",
        "    DATA = np.array(pricedata)\n",
        "\n",
        "    askdata = []\n",
        "    for x in range(0,len(res['asks'])):\n",
        "        askdata.append(float(res['asks'][x]['price']))\n",
        "    DATAA = np.array(askdata)\n",
        "\n",
        "    biddata = []\n",
        "    for x in range(0,len(res['bids'])):\n",
        "        biddata.append(float(res['bids'][x]['price']))\n",
        "    DATAB = np.array(biddata)\n",
        "\n",
        "    #Calculate Indicators\n",
        "    #iRSI = ti.rsi(DATA, period=14)\n",
        "    BB = ti.bbands(DATA, period=20, stddev=2)\n",
        "    BB1 = ti.bbands(DATA, period=20, stddev=1)\n",
        "    '''\n",
        "    MA = ti.sma(DATA, period=5)\n",
        "    MAA = ti.sma(DATAA, period=3)\n",
        "    MAB = ti.sma(DATAB, period=5)\n",
        "    '''\n",
        "\n",
        "    '''\n",
        "    if (MAB[0] < pricedata[0] < MA[0]):\n",
        "        print(\"Buying, price is low!\")\n",
        "        enter(\"B\")\n",
        "\n",
        "    if (MA[0] < pricedata[0] < MAA[0]):\n",
        "        print(\"Selling, price is high!\")\n",
        "        enter(\"S\")\n",
        "    '''\n",
        "\n",
        "    current_price = float(closePrices['trades'][0]['price'])\n",
        "\n",
        "    if (BB[1][0] > current_price > BB[0][0]):\n",
        "        print(\"Buying, price is low!\")\n",
        "        try:\n",
        "          c.post_limit_order(pair='ETHGBP', type='BID', volume='0.015', price = ticker['last_trade'])\n",
        "          print(\"Post limit order, buy at price: \", ticker['last_trade'])\n",
        "          enter_trade = True\n",
        "        except Exception as e:\n",
        "          print(e)\n",
        "          enter_trade = False\n",
        "\n",
        "    if (BB[1][0] < current_price < BB[2][0]):\n",
        "        print(\"Selling, price is high!\")\n",
        "        try:\n",
        "          c.post_limit_order(pair='ETHGBP', type='ASK', volume='0.015', price = pricedata[0])\n",
        "          print(\"Post limit order, sell at price.\", pricedata[0])\n",
        "          enter_trade = False\n",
        "        except Exception as e:\n",
        "          print(e)\n",
        "          enter_trade = True\n",
        "\n",
        "    '''\n",
        "    if (BB1[0][0] > current_price > BB[0][0]):\n",
        "        print(\"Price might go down, sell to cut lost\")\n",
        "        enter(\"S\")\n",
        "\n",
        "    if (BB1[2][0] < current_price < BB[2][0]):\n",
        "        print(\"Price might go up, buy now\")\n",
        "        enter(\"B\")\n",
        "    '''\n",
        "    print(\"Current price: \", pricedata[0])  \n",
        "    '''\n",
        "    print(\"MA bid(low): \", MAB[0])\n",
        "    print(\"MA middle: \", MA[0])\n",
        "    print(\"MA ask(high): \", MAA[0])\n",
        "    '''\n",
        "    print(\"BBand lower: \", BB[0][0])\n",
        "    print(\"BBand middle: \", BB[1][0])\n",
        "    print(\"BBand upper \", BB[2][0])\n",
        "\n",
        "  \n",
        "    print(\"                               Bot working, checking...\")\n",
        "\n",
        "    #call this method again every 5 minutes for new price changes\n",
        "    s.enter(1800, 1, run, (sc,))\n",
        "    \n",
        "s.enter(1, 1, run, (s,))\n",
        "\n",
        "s.run()"
      ],
      "execution_count": null,
      "outputs": []
    }
  ]
}