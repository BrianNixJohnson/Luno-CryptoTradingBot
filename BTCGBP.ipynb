{
  "nbformat": 4,
  "nbformat_minor": 0,
  "metadata": {
    "colab": {
      "name": "BTCGBP.ipynb",
      "provenance": [],
      "collapsed_sections": [],
      "include_colab_link": true
    },
    "kernelspec": {
      "name": "python3",
      "display_name": "Python 3"
    }
  },
  "cells": [
    {
      "cell_type": "markdown",
      "metadata": {
        "id": "view-in-github",
        "colab_type": "text"
      },
      "source": [
        "<a href=\"https://colab.research.google.com/github/itsmihhhhhh/Luno-CryptoTradingBot/blob/master/BTCGBP.ipynb\" target=\"_parent\"><img src=\"https://colab.research.google.com/assets/colab-badge.svg\" alt=\"Open In Colab\"/></a>"
      ]
    },
    {
      "cell_type": "markdown",
      "metadata": {
        "id": "dmCYFKILkqhm",
        "colab_type": "text"
      },
      "source": [
        "# Install required packages"
      ]
    },
    {
      "cell_type": "code",
      "metadata": {
        "id": "hTvzPOz66-2s",
        "colab_type": "code",
        "colab": {
          "base_uri": "https://localhost:8080/",
          "height": 408
        },
        "outputId": "81dfa84d-0728-46c6-ac4d-75bada966d10"
      },
      "source": [
        "!pip install luno_python\n",
        "!pip install mpl_finance\n",
        "!pip install pyti\n",
        "!pip install numpy"
      ],
      "execution_count": null,
      "outputs": [
        {
          "output_type": "stream",
          "text": [
            "Requirement already satisfied: luno_python in /usr/local/lib/python3.6/dist-packages (0.0.7)\n",
            "Requirement already satisfied: requests>=2.18.4 in /usr/local/lib/python3.6/dist-packages (from luno_python) (2.23.0)\n",
            "Requirement already satisfied: six>=1.11.0 in /usr/local/lib/python3.6/dist-packages (from luno_python) (1.15.0)\n",
            "Requirement already satisfied: urllib3!=1.25.0,!=1.25.1,<1.26,>=1.21.1 in /usr/local/lib/python3.6/dist-packages (from requests>=2.18.4->luno_python) (1.24.3)\n",
            "Requirement already satisfied: chardet<4,>=3.0.2 in /usr/local/lib/python3.6/dist-packages (from requests>=2.18.4->luno_python) (3.0.4)\n",
            "Requirement already satisfied: idna<3,>=2.5 in /usr/local/lib/python3.6/dist-packages (from requests>=2.18.4->luno_python) (2.10)\n",
            "Requirement already satisfied: certifi>=2017.4.17 in /usr/local/lib/python3.6/dist-packages (from requests>=2.18.4->luno_python) (2020.6.20)\n",
            "Requirement already satisfied: mpl_finance in /usr/local/lib/python3.6/dist-packages (0.10.1)\n",
            "Requirement already satisfied: matplotlib in /usr/local/lib/python3.6/dist-packages (from mpl_finance) (3.2.2)\n",
            "Requirement already satisfied: kiwisolver>=1.0.1 in /usr/local/lib/python3.6/dist-packages (from matplotlib->mpl_finance) (1.2.0)\n",
            "Requirement already satisfied: cycler>=0.10 in /usr/local/lib/python3.6/dist-packages (from matplotlib->mpl_finance) (0.10.0)\n",
            "Requirement already satisfied: python-dateutil>=2.1 in /usr/local/lib/python3.6/dist-packages (from matplotlib->mpl_finance) (2.8.1)\n",
            "Requirement already satisfied: pyparsing!=2.0.4,!=2.1.2,!=2.1.6,>=2.0.1 in /usr/local/lib/python3.6/dist-packages (from matplotlib->mpl_finance) (2.4.7)\n",
            "Requirement already satisfied: numpy>=1.11 in /usr/local/lib/python3.6/dist-packages (from matplotlib->mpl_finance) (1.18.5)\n",
            "Requirement already satisfied: six in /usr/local/lib/python3.6/dist-packages (from cycler>=0.10->matplotlib->mpl_finance) (1.15.0)\n",
            "Requirement already satisfied: pyti in /usr/local/lib/python3.6/dist-packages (0.2.2)\n",
            "Requirement already satisfied: numpy in /usr/local/lib/python3.6/dist-packages (from pyti) (1.18.5)\n",
            "Requirement already satisfied: pandas in /usr/local/lib/python3.6/dist-packages (from pyti) (1.0.5)\n",
            "Requirement already satisfied: python-dateutil>=2.6.1 in /usr/local/lib/python3.6/dist-packages (from pandas->pyti) (2.8.1)\n",
            "Requirement already satisfied: pytz>=2017.2 in /usr/local/lib/python3.6/dist-packages (from pandas->pyti) (2018.9)\n",
            "Requirement already satisfied: six>=1.5 in /usr/local/lib/python3.6/dist-packages (from python-dateutil>=2.6.1->pandas->pyti) (1.15.0)\n",
            "Requirement already satisfied: numpy in /usr/local/lib/python3.6/dist-packages (1.18.5)\n"
          ],
          "name": "stdout"
        }
      ]
    },
    {
      "cell_type": "markdown",
      "metadata": {
        "id": "39iN4j-syGig",
        "colab_type": "text"
      },
      "source": [
        "# Retrieve data from Yahoo Finance"
      ]
    },
    {
      "cell_type": "code",
      "metadata": {
        "id": "PznI_1G6t384",
        "colab_type": "code",
        "colab": {
          "base_uri": "https://localhost:8080/",
          "height": 283
        },
        "outputId": "58480562-6025-4cec-a109-126ef9b89c9e"
      },
      "source": [
        "from pandas_datareader import data as web\n",
        "import datetime \n",
        "stock = 'BTC-GBP'\n",
        "\n",
        "start_date = (datetime.datetime.now() - datetime.timedelta(days=365)).strftime(\"%m-%d-%Y\")       \n",
        "df = web.DataReader(stock, data_source='yahoo', start=start_date)\n",
        "\n",
        "\n",
        "import matplotlib.pyplot as plt\n",
        "plt.plot(df['Close'])"
      ],
      "execution_count": null,
      "outputs": [
        {
          "output_type": "execute_result",
          "data": {
            "text/plain": [
              "[<matplotlib.lines.Line2D at 0x7fdc93650d30>]"
            ]
          },
          "metadata": {
            "tags": []
          },
          "execution_count": 10
        },
        {
          "output_type": "display_data",
          "data": {
            "image/png": "[encoded data removed]",
            "text/plain": [
              "<Figure size 432x288 with 1 Axes>"
            ]
          },
          "metadata": {
            "tags": [],
            "needs_background": "light"
          }
        }
      ]
    },
    {
      "cell_type": "code",
      "metadata": {
        "id": "HTETMEAyss9V",
        "colab_type": "code",
        "colab": {
          "base_uri": "https://localhost:8080/",
          "height": 428
        },
        "outputId": "c15b697e-9953-43f6-cea0-95ef7e37f35c"
      },
      "source": [
        "import pandas_datareader as pdr\n",
        "import datetime \n",
        "df = pdr.get_data_yahoo('BTC-GBP', \n",
        "                          start=datetime.datetime(2020,1,4), \n",
        "                          end=datetime.datetime.now())\n",
        "\n",
        "df"
      ],
      "execution_count": null,
      "outputs": [
        {
          "output_type": "execute_result",
          "data": {
            "text/html": [
              "<div>\n",
              "<style scoped>\n",
              "    .dataframe tbody tr th:only-of-type {\n",
              "        vertical-align: middle;\n",
              "    }\n",
              "\n",
              "    .dataframe tbody tr th {\n",
              "        vertical-align: top;\n",
              "    }\n",
              "\n",
              "    .dataframe thead th {\n",
              "        text-align: right;\n",
              "    }\n",
              "</style>\n",
              "<table border=\"1\" class=\"dataframe\">\n",
              "  <thead>\n",
              "    <tr style=\"text-align: right;\">\n",
              "      <th></th>\n",
              "      <th>High</th>\n",
              "      <th>Low</th>\n",
              "      <th>Open</th>\n",
              "      <th>Close</th>\n",
              "      <th>Volume</th>\n",
              "      <th>Adj Close</th>\n",
              "    </tr>\n",
              "    <tr>\n",
              "      <th>Date</th>\n",
              "      <th></th>\n",
              "      <th></th>\n",
              "      <th></th>\n",
              "      <th></th>\n",
              "      <th></th>\n",
              "      <th></th>\n",
              "    </tr>\n",
              "  </thead>\n",
              "  <tbody>\n",
              "    <tr>\n",
              "      <th>2020-01-04</th>\n",
              "      <td>5678.214355</td>\n",
              "      <td>5588.101562</td>\n",
              "      <td>5615.517578</td>\n",
              "      <td>5665.424805</td>\n",
              "      <td>1.410059e+10</td>\n",
              "      <td>5665.424805</td>\n",
              "    </tr>\n",
              "    <tr>\n",
              "      <th>2020-01-05</th>\n",
              "      <td>5768.627930</td>\n",
              "      <td>5658.553223</td>\n",
              "      <td>5665.268066</td>\n",
              "      <td>5666.796875</td>\n",
              "      <td>1.508207e+10</td>\n",
              "      <td>5666.796875</td>\n",
              "    </tr>\n",
              "    <tr>\n",
              "      <th>2020-01-06</th>\n",
              "      <td>5908.118164</td>\n",
              "      <td>5625.253906</td>\n",
              "      <td>5666.135254</td>\n",
              "      <td>5898.515625</td>\n",
              "      <td>1.767171e+10</td>\n",
              "      <td>5898.515625</td>\n",
              "    </tr>\n",
              "    <tr>\n",
              "      <th>2020-01-07</th>\n",
              "      <td>6236.903809</td>\n",
              "      <td>5924.236816</td>\n",
              "      <td>5898.107422</td>\n",
              "      <td>6225.827637</td>\n",
              "      <td>2.193863e+10</td>\n",
              "      <td>6225.827637</td>\n",
              "    </tr>\n",
              "    <tr>\n",
              "      <th>2020-01-08</th>\n",
              "      <td>6407.449707</td>\n",
              "      <td>6071.718750</td>\n",
              "      <td>6224.487793</td>\n",
              "      <td>6165.646484</td>\n",
              "      <td>2.416895e+10</td>\n",
              "      <td>6165.646484</td>\n",
              "    </tr>\n",
              "    <tr>\n",
              "      <th>...</th>\n",
              "      <td>...</td>\n",
              "      <td>...</td>\n",
              "      <td>...</td>\n",
              "      <td>...</td>\n",
              "      <td>...</td>\n",
              "      <td>...</td>\n",
              "    </tr>\n",
              "    <tr>\n",
              "      <th>2020-08-10</th>\n",
              "      <td>9119.550781</td>\n",
              "      <td>8576.461914</td>\n",
              "      <td>9086.573242</td>\n",
              "      <td>8742.436523</td>\n",
              "      <td>2.071715e+10</td>\n",
              "      <td>8742.436523</td>\n",
              "    </tr>\n",
              "    <tr>\n",
              "      <th>2020-08-11</th>\n",
              "      <td>8998.649414</td>\n",
              "      <td>8625.061523</td>\n",
              "      <td>8737.894531</td>\n",
              "      <td>8880.038086</td>\n",
              "      <td>1.921238e+10</td>\n",
              "      <td>8880.038086</td>\n",
              "    </tr>\n",
              "    <tr>\n",
              "      <th>2020-08-12</th>\n",
              "      <td>9026.142578</td>\n",
              "      <td>8573.526367</td>\n",
              "      <td>8882.698242</td>\n",
              "      <td>9016.762695</td>\n",
              "      <td>2.105891e+10</td>\n",
              "      <td>9016.762695</td>\n",
              "    </tr>\n",
              "    <tr>\n",
              "      <th>2020-08-13</th>\n",
              "      <td>9281.949219</td>\n",
              "      <td>8923.119141</td>\n",
              "      <td>9007.979492</td>\n",
              "      <td>8993.135742</td>\n",
              "      <td>1.852134e+10</td>\n",
              "      <td>8993.135742</td>\n",
              "    </tr>\n",
              "    <tr>\n",
              "      <th>2020-08-15</th>\n",
              "      <td>9139.918945</td>\n",
              "      <td>8994.886719</td>\n",
              "      <td>8994.886719</td>\n",
              "      <td>9102.547852</td>\n",
              "      <td>1.775008e+10</td>\n",
              "      <td>9102.547852</td>\n",
              "    </tr>\n",
              "  </tbody>\n",
              "</table>\n",
              "<p>224 rows × 6 columns</p>\n",
              "</div>"
            ],
            "text/plain": [
              "                   High          Low  ...        Volume    Adj Close\n",
              "Date                                  ...                           \n",
              "2020-01-04  5678.214355  5588.101562  ...  1.410059e+10  5665.424805\n",
              "2020-01-05  5768.627930  5658.553223  ...  1.508207e+10  5666.796875\n",
              "2020-01-06  5908.118164  5625.253906  ...  1.767171e+10  5898.515625\n",
              "2020-01-07  6236.903809  5924.236816  ...  2.193863e+10  6225.827637\n",
              "2020-01-08  6407.449707  6071.718750  ...  2.416895e+10  6165.646484\n",
              "...                 ...          ...  ...           ...          ...\n",
              "2020-08-10  9119.550781  8576.461914  ...  2.071715e+10  8742.436523\n",
              "2020-08-11  8998.649414  8625.061523  ...  1.921238e+10  8880.038086\n",
              "2020-08-12  9026.142578  8573.526367  ...  2.105891e+10  9016.762695\n",
              "2020-08-13  9281.949219  8923.119141  ...  1.852134e+10  8993.135742\n",
              "2020-08-15  9139.918945  8994.886719  ...  1.775008e+10  9102.547852\n",
              "\n",
              "[224 rows x 6 columns]"
            ]
          },
          "metadata": {
            "tags": []
          },
          "execution_count": 11
        }
      ]
    },
    {
      "cell_type": "markdown",
      "metadata": {
        "id": "kVGa1WT14C6M",
        "colab_type": "text"
      },
      "source": [
        "# Connect with Luno account (using Luno API)"
      ]
    },
    {
      "cell_type": "code",
      "metadata": {
        "id": "vUclZRjSCUTZ",
        "colab_type": "code",
        "colab": {
          "base_uri": "https://localhost:8080/",
          "height": 53
        },
        "outputId": "b2aca24f-af21-40d5-b610-a68c156955c9"
      },
      "source": [
        "from luno_python.client import Client\n",
        "c = Client(api_key_id='dfqpu5an2kh7q', api_key_secret='UWjQZBJxoNEOKL1id59VaFBSBORvuAdeR2ZHA6_vdso')\n",
        "try:\n",
        "  ticker = c.get_ticker(pair='XBTGBP')\n",
        "  print(ticker)\n",
        "except Exception as e:\n",
        "  print(e)\n",
        "\n",
        "ticker['last_trade']"
      ],
      "execution_count": null,
      "outputs": [
        {
          "output_type": "stream",
          "text": [
            "{'pair': 'XBTGBP', 'timestamp': 1597531006313, 'bid': '9109.58', 'ask': '9128.91', 'last_trade': '9150.00', 'rolling_24_hour_volume': '1.5085', 'status': 'ACTIVE'}\n"
          ],
          "name": "stdout"
        },
        {
          "output_type": "execute_result",
          "data": {
            "application/vnd.google.colaboratory.intrinsic+json": {
              "type": "string"
            },
            "text/plain": [
              "'9150.00'"
            ]
          },
          "metadata": {
            "tags": []
          },
          "execution_count": 12
        }
      ]
    },
    {
      "cell_type": "markdown",
      "metadata": {
        "id": "91EWVZdl9QGt",
        "colab_type": "text"
      },
      "source": [
        "## Get market depth\n",
        "\n"
      ]
    },
    {
      "cell_type": "code",
      "metadata": {
        "id": "pcFt30e58JDV",
        "colab_type": "code",
        "colab": {
          "base_uri": "https://localhost:8080/",
          "height": 390
        },
        "outputId": "c3b0b68c-4771-4fb5-b471-565e3f5638df"
      },
      "source": [
        "res = c.get_order_book(pair='XBTGBP')\n",
        "res\n"
      ],
      "execution_count": null,
      "outputs": [
        {
          "output_type": "execute_result",
          "data": {
            "text/plain": [
              "{'asks': [{'price': '9128.91', 'volume': '1.6196'},\n",
              "  {'price': '9133.63', 'volume': '0.8302'},\n",
              "  {'price': '9134.23', 'volume': '1.9926'},\n",
              "  {'price': '9260.00', 'volume': '0.54'},\n",
              "  {'price': '9310.00', 'volume': '0.0113'},\n",
              "  {'price': '9500.00', 'volume': '0.0023'},\n",
              "  {'price': '15000.00', 'volume': '0.0737'}],\n",
              " 'bids': [{'price': '9109.58', 'volume': '0.8743'},\n",
              "  {'price': '8650.01', 'volume': '0.109'},\n",
              "  {'price': '8650.00', 'volume': '0.0512'},\n",
              "  {'price': '8502.00', 'volume': '0.0235'},\n",
              "  {'price': '8500.00', 'volume': '0.0754'},\n",
              "  {'price': '7700.01', 'volume': '0.0439'},\n",
              "  {'price': '7700.00', 'volume': '0.0029'},\n",
              "  {'price': '7550.00', 'volume': '0.0266'},\n",
              "  {'price': '7300.00', 'volume': '0.0142'},\n",
              "  {'price': '7200.00', 'volume': '0.0073'},\n",
              "  {'price': '7102.00', 'volume': '0.0899'},\n",
              "  {'price': '7089.00', 'volume': '0.0113'},\n",
              "  {'price': '6500.01', 'volume': '0.0015'}],\n",
              " 'timestamp': 1597531006786}"
            ]
          },
          "metadata": {
            "tags": []
          },
          "execution_count": 13
        }
      ]
    },
    {
      "cell_type": "markdown",
      "metadata": {
        "id": "ye90gbYbyHyx",
        "colab_type": "text"
      },
      "source": [
        "# Functions (enter trades)"
      ]
    },
    {
      "cell_type": "code",
      "metadata": {
        "id": "WGFIwMXqbDjw",
        "colab_type": "code",
        "colab": {
          "base_uri": "https://localhost:8080/",
          "height": 36
        },
        "outputId": "824871a7-5b89-40ea-f3e4-6cd0c73044ea"
      },
      "source": [
        "balance = c.get_balances(assets=['XBT','GBP'])\n",
        "balBTC = balance['balance'][0]['balance']\n",
        "balGBP = balance['balance'][1]['balance']\n",
        "balGBP"
      ],
      "execution_count": null,
      "outputs": [
        {
          "output_type": "execute_result",
          "data": {
            "application/vnd.google.colaboratory.intrinsic+json": {
              "type": "string"
            },
            "text/plain": [
              "'15.636743'"
            ]
          },
          "metadata": {
            "tags": []
          },
          "execution_count": 14
        }
      ]
    },
    {
      "cell_type": "code",
      "metadata": {
        "id": "Qs7ltmPDbFUy",
        "colab_type": "code",
        "colab": {}
      },
      "source": [
        "enter_trade = True"
      ],
      "execution_count": null,
      "outputs": []
    },
    {
      "cell_type": "code",
      "metadata": {
        "id": "ZzSM7HhNyN0v",
        "colab_type": "code",
        "colab": {}
      },
      "source": [
        "pair = 'XBTBGP'\n",
        "\n",
        "price = ticker['last_trade']\n",
        "\n",
        "# This function places a market order in the direction BuySell, \"B\" = Buy, \"S\" = Sell, uses symbol, amount, stop, limit\n",
        "def enter(BuySell):\n",
        "    global enter_trade\n",
        "\n",
        "    if BuySell == 'B':\n",
        "      '''\n",
        "      if enter_trade == True:\n",
        "          print(\"Havent close previous position\")\n",
        "      else:\n",
        "      '''\n",
        "      try:\n",
        "          #c.post_market_order(pair='XBTGBP', type='SELL', base_volume='0.0023')\n",
        "          if (price == float(res['asks'][0]['price'])):\n",
        "              c.post_market_order(pair='XBTGBP', type='BUY', counter_volume='21')\n",
        "              print(\"Buy Successfully at price: \", res['asks'][0]['price'])\n",
        "              enter_trade = True\n",
        "          else:\n",
        "              c.post_limit_order(pair='XBTGBP', type='BID', volume='0.0023', price = str(float(price)))\n",
        "              print(\"Post limit order, buy at price: \", price)\n",
        "              enter_trade = True\n",
        "\n",
        "      except Exception as e:\n",
        "          print(e)\n",
        "          enter_trade = False\n",
        "\n",
        "    if BuySell == 'S':\n",
        "      '''\n",
        "      if enter_trade == False:\n",
        "          print(\"Havent entered the market, all positions are closed\")\n",
        "      else:\n",
        "      '''\n",
        "      try:\n",
        "          #c.post_market_order(pair='XBTGBP', type='BUY', counter_volume='10')\n",
        "          if (price == float(res['bids'][0]['price'])):\n",
        "              c.post_market_order(pair='XBTGBP', type='SELL', base_volume='0.0023')\n",
        "              print(\"Sell Successfully at price.\", res['bids'][0]['price'])\n",
        "              enter_trade = False\n",
        "          else:\n",
        "              c.post_limit_order(pair='XBTGBP', type='ASK', volume='0.0023', price = str(float(price)))\n",
        "              print(\"Post limit order, sell at price.\", price)\n",
        "              enter_trade = False\n",
        "      except Exception as e:\n",
        "        print(e)\n",
        "        enter_trade = True"
      ],
      "execution_count": null,
      "outputs": []
    },
    {
      "cell_type": "markdown",
      "metadata": {
        "id": "nnyr4ECnQqHE",
        "colab_type": "text"
      },
      "source": [
        "# RSI logic (set up and install)"
      ]
    },
    {
      "cell_type": "code",
      "metadata": {
        "id": "lqWSxs0P9Nhq",
        "colab_type": "code",
        "colab": {
          "base_uri": "https://localhost:8080/",
          "height": 266
        },
        "outputId": "bc174c6e-a49e-45a4-b9f9-deb667c2d0e5"
      },
      "source": [
        "!pip install tulipy\n",
        "import tulipy as ti\n",
        "\n",
        "rsiPeriod = 14\n",
        "upper_rsi = 70.0\n",
        "lower_rsi = 30.0"
      ],
      "execution_count": null,
      "outputs": [
        {
          "output_type": "stream",
          "text": [
            "Collecting tulipy\n",
            "\u001b[?25l  Downloading https://files.pythonhosted.org/packages/2c/fc/685a3fe73a66ed35332058c2e22b2ed63b7725ec32817753f11c06f48792/tulipy-0.4.0.tar.gz (110kB)\n",
            "\r\u001b[K     |███                             | 10kB 18.2MB/s eta 0:00:01\r\u001b[K     |██████                          | 20kB 1.7MB/s eta 0:00:01\r\u001b[K     |█████████                       | 30kB 2.2MB/s eta 0:00:01\r\u001b[K     |███████████▉                    | 40kB 2.5MB/s eta 0:00:01\r\u001b[K     |██████████████▉                 | 51kB 2.0MB/s eta 0:00:01\r\u001b[K     |█████████████████▉              | 61kB 2.2MB/s eta 0:00:01\r\u001b[K     |████████████████████▉           | 71kB 2.5MB/s eta 0:00:01\r\u001b[K     |███████████████████████▊        | 81kB 2.7MB/s eta 0:00:01\r\u001b[K     |██████████████████████████▊     | 92kB 2.9MB/s eta 0:00:01\r\u001b[K     |█████████████████████████████▊  | 102kB 2.7MB/s eta 0:00:01\r\u001b[K     |████████████████████████████████| 112kB 2.7MB/s \n",
            "\u001b[?25h  Installing build dependencies ... \u001b[?25l\u001b[?25hdone\n",
            "  Getting requirements to build wheel ... \u001b[?25l\u001b[?25hdone\n",
            "    Preparing wheel metadata ... \u001b[?25l\u001b[?25hdone\n",
            "Requirement already satisfied: numpy in /usr/local/lib/python3.6/dist-packages (from tulipy) (1.18.5)\n",
            "Building wheels for collected packages: tulipy\n",
            "  Building wheel for tulipy (PEP 517) ... \u001b[?25l\u001b[?25hdone\n",
            "  Created wheel for tulipy: filename=tulipy-0.4.0-cp36-cp36m-linux_x86_64.whl size=227046 sha256=360b0b536a632a056cd33df4216f4cd126fd30ef0e0971b8f85dcb522a6d8555\n",
            "  Stored in directory: /root/.cache/pip/wheels/c7/17/ad/a187769379c3b970acfd4aabe82e8e2b4dfca2b518a26de957\n",
            "Successfully built tulipy\n",
            "Installing collected packages: tulipy\n",
            "Successfully installed tulipy-0.4.0\n"
          ],
          "name": "stdout"
        }
      ]
    },
    {
      "cell_type": "markdown",
      "metadata": {
        "id": "BMQSvS6uQ_BZ",
        "colab_type": "text"
      },
      "source": [
        "# Main function that run every 45 minute \n",
        "to check the price, RSI line and generate run/buy signal when RSI cross (using the functions above)"
      ]
    },
    {
      "cell_type": "code",
      "metadata": {
        "id": "j4a1pHLdL2yj",
        "colab_type": "code",
        "colab": {
          "base_uri": "https://localhost:8080/",
          "height": 248
        },
        "outputId": "edac0f00-bc59-4ac1-97a1-d64654b1dab7"
      },
      "source": [
        "import sched, time\n",
        "import numpy as np\n",
        "\n",
        "\n",
        "#Initiate our scheduler so we can keep checking every minute for new price changes\n",
        "s = sched.scheduler(time.time, time.sleep)\n",
        "\n",
        "# This function is run every 5 minutes\n",
        "\n",
        "def run(sc): \n",
        "\n",
        "    #Get prices from Luno, retrieve prices data\n",
        "    res = c.get_order_book(pair='XBTGBP')\n",
        "    closePrices = c.list_trades(pair='XBTGBP')\n",
        "    pricedata = []\n",
        "\n",
        "    for x in range(0,len(closePrices['trades'])):\n",
        "        pricedata.append(float(closePrices['trades'][x]['price']))\n",
        "    DATA = np.array(pricedata)\n",
        "\n",
        "    askdata = []\n",
        "    for x in range(0,len(res['asks'])):\n",
        "        askdata.append(float(res['asks'][x]['price']))\n",
        "    DATAA = np.array(askdata)\n",
        "\n",
        "    biddata = []\n",
        "    for x in range(0,len(res['bids'])):\n",
        "        biddata.append(float(res['bids'][x]['price']))\n",
        "    DATAB = np.array(biddata)\n",
        "\n",
        "    #Calculate Indicators\n",
        "\n",
        "    BB = ti.bbands(DATA, period=20, stddev=2)\n",
        "    BB1 = ti.bbands(DATA, period=20, stddev=1)\n",
        "    MA = ti.sma(DATA, period=5)\n",
        "    MAA = ti.sma(DATAA, period=3)\n",
        "    MAB = ti.sma(DATAB, period=5)\n",
        "\n",
        "    # TRADING LOGIC\n",
        "    current_price = pricedata[0]\n",
        "    \n",
        "    '''\n",
        "    # Trading logic based on Moving Average line\n",
        "    if (MAB[0] < current_price < MA[0]) or (current_price <BB[0][0]):\n",
        "        print(\"Buying, price is low!\")\n",
        "        enter(\"B\")\n",
        "   \n",
        "    if (MA[0] < current_price < MAA[0]) or (current_price > BB[2][0]):\n",
        "        print(\"Selling, price is high!\")\n",
        "        enter(\"S\")\n",
        "    '''\n",
        "    #Trading logic based on Bollinger Band line\n",
        "    if (BB[1][0] > current_price > BB1[0][0]):\n",
        "        print(\"Buying, price is low!\")\n",
        "        enter(\"B\")\n",
        "\n",
        "    if (BB[1][0] < current_price < BB1[2][0]):\n",
        "        print(\"Selling, price is high!\")\n",
        "        enter(\"S\")\n",
        "    \n",
        "    if (BB1[0][0] > current_price > BB[0][0]):\n",
        "        print(\"Price might go down, sell to cut lost\")\n",
        "        enter(\"S\")\n",
        "\n",
        "    if (BB1[2][0] < current_price < BB[2][0]):\n",
        "        print(\"Price might go up, buy now\")\n",
        "        enter(\"B\")\n",
        "\n",
        "\n",
        "    print(\"Current price: \", pricedata[0]) \n",
        "    \n",
        "    print(\"MA bid(low): \", MAB[0])\n",
        "    print(\"MA middle: \", MA[0])\n",
        "    print(\"MA ask(high): \", MAA[0])\n",
        "\n",
        "    print(\"-------------\")\n",
        "\n",
        "    print(\"BBand upper \", BB[2][0])\n",
        "    print(\"BBand up: \", BB1[2][0])\n",
        "    print(\"BBand middle: \", BB[1][0])\n",
        "    print(\"BBand low: \", BB1[0][0])\n",
        "    print(\"BBand lower: \", BB[0][0])\n",
        "\n",
        "   \n",
        "\n",
        "  \n",
        "    print(\"                               Bot working, checking...\")\n",
        "\n",
        "    #call this method again every 45 minutes for new price changes\n",
        "    s.enter(2500, 1, run, (sc,))\n",
        "    \n",
        "s.enter(1, 1, run, (s,))\n",
        "\n",
        "s.run()"
      ],
      "execution_count": null,
      "outputs": [
        {
          "output_type": "stream",
          "text": [
            "Selling, price is high!\n",
            "Post limit order, sell at price. 9150.00\n",
            "Current price:  9150.0\n",
            "MA bid(low):  8680.998\n",
            "MA middle:  9085.490000000002\n",
            "MA ask(high):  9171.676666666666\n",
            "-------------\n",
            "BBand upper  9259.381649828723\n",
            "BBand up:  9160.949824914363\n",
            "BBand middle:  9062.518000000002\n",
            "BBand low:  8964.08617508564\n",
            "BBand lower:  8865.65435017128\n",
            "                               Bot working, checking...\n"
          ],
          "name": "stdout"
        }
      ]
    }
  ]
}