{
  "nbformat": 4,
  "nbformat_minor": 0,
  "metadata": {
    "colab": {
      "name": "BTCGBP.ipynb",
      "provenance": [],
      "collapsed_sections": [],
      "include_colab_link": true
    },
    "kernelspec": {
      "name": "python3",
      "display_name": "Python 3"
    }
  },
  "cells": [
    {
      "cell_type": "markdown",
      "metadata": {
        "id": "view-in-github",
        "colab_type": "text"
      },
      "source": [
        "<a href=\"https://colab.research.google.com/github/itsmihhhhhh/Luno-CryptoTradingBot/blob/master/BTCGBP.ipynb\" target=\"_parent\"><img src=\"https://colab.research.google.com/assets/colab-badge.svg\" alt=\"Open In Colab\"/></a>"
      ]
    },
    {
      "cell_type": "markdown",
      "metadata": {
        "id": "dmCYFKILkqhm",
        "colab_type": "text"
      },
      "source": [
        "# Install required packages"
      ]
    },
    {
      "cell_type": "code",
      "metadata": {
        "id": "hTvzPOz66-2s",
        "colab_type": "code",
        "colab": {
          "base_uri": "https://localhost:8080/",
          "height": 408
        },
        "outputId": "4d567ce8-04d0-4472-b1d7-a536ad59910d"
      },
      "source": [
        "!pip install luno_python\n",
        "!pip install mpl_finance\n",
        "!pip install pyti\n",
        "!pip install numpy"
      ],
      "execution_count": 5,
      "outputs": [
        {
          "output_type": "stream",
          "text": [
            "Requirement already satisfied: luno_python in /usr/local/lib/python3.6/dist-packages (0.0.7)\n",
            "Requirement already satisfied: six>=1.11.0 in /usr/local/lib/python3.6/dist-packages (from luno_python) (1.15.0)\n",
            "Requirement already satisfied: requests>=2.18.4 in /usr/local/lib/python3.6/dist-packages (from luno_python) (2.23.0)\n",
            "Requirement already satisfied: urllib3!=1.25.0,!=1.25.1,<1.26,>=1.21.1 in /usr/local/lib/python3.6/dist-packages (from requests>=2.18.4->luno_python) (1.24.3)\n",
            "Requirement already satisfied: idna<3,>=2.5 in /usr/local/lib/python3.6/dist-packages (from requests>=2.18.4->luno_python) (2.10)\n",
            "Requirement already satisfied: certifi>=2017.4.17 in /usr/local/lib/python3.6/dist-packages (from requests>=2.18.4->luno_python) (2020.6.20)\n",
            "Requirement already satisfied: chardet<4,>=3.0.2 in /usr/local/lib/python3.6/dist-packages (from requests>=2.18.4->luno_python) (3.0.4)\n",
            "Requirement already satisfied: mpl_finance in /usr/local/lib/python3.6/dist-packages (0.10.1)\n",
            "Requirement already satisfied: matplotlib in /usr/local/lib/python3.6/dist-packages (from mpl_finance) (3.2.2)\n",
            "Requirement already satisfied: python-dateutil>=2.1 in /usr/local/lib/python3.6/dist-packages (from matplotlib->mpl_finance) (2.8.1)\n",
            "Requirement already satisfied: cycler>=0.10 in /usr/local/lib/python3.6/dist-packages (from matplotlib->mpl_finance) (0.10.0)\n",
            "Requirement already satisfied: kiwisolver>=1.0.1 in /usr/local/lib/python3.6/dist-packages (from matplotlib->mpl_finance) (1.2.0)\n",
            "Requirement already satisfied: numpy>=1.11 in /usr/local/lib/python3.6/dist-packages (from matplotlib->mpl_finance) (1.18.5)\n",
            "Requirement already satisfied: pyparsing!=2.0.4,!=2.1.2,!=2.1.6,>=2.0.1 in /usr/local/lib/python3.6/dist-packages (from matplotlib->mpl_finance) (2.4.7)\n",
            "Requirement already satisfied: six>=1.5 in /usr/local/lib/python3.6/dist-packages (from python-dateutil>=2.1->matplotlib->mpl_finance) (1.15.0)\n",
            "Requirement already satisfied: pyti in /usr/local/lib/python3.6/dist-packages (0.2.2)\n",
            "Requirement already satisfied: numpy in /usr/local/lib/python3.6/dist-packages (from pyti) (1.18.5)\n",
            "Requirement already satisfied: pandas in /usr/local/lib/python3.6/dist-packages (from pyti) (1.0.5)\n",
            "Requirement already satisfied: python-dateutil>=2.6.1 in /usr/local/lib/python3.6/dist-packages (from pandas->pyti) (2.8.1)\n",
            "Requirement already satisfied: pytz>=2017.2 in /usr/local/lib/python3.6/dist-packages (from pandas->pyti) (2018.9)\n",
            "Requirement already satisfied: six>=1.5 in /usr/local/lib/python3.6/dist-packages (from python-dateutil>=2.6.1->pandas->pyti) (1.15.0)\n",
            "Requirement already satisfied: numpy in /usr/local/lib/python3.6/dist-packages (1.18.5)\n"
          ],
          "name": "stdout"
        }
      ]
    },
    {
      "cell_type": "markdown",
      "metadata": {
        "id": "39iN4j-syGig",
        "colab_type": "text"
      },
      "source": [
        "# Retrieve data from Yahoo Finance"
      ]
    },
    {
      "cell_type": "code",
      "metadata": {
        "id": "PznI_1G6t384",
        "colab_type": "code",
        "colab": {
          "base_uri": "https://localhost:8080/",
          "height": 283
        },
        "outputId": "cb2784ce-ffa3-4f9e-f21c-364d818a8254"
      },
      "source": [
        "from pandas_datareader import data as web\n",
        "import datetime \n",
        "stock = 'BTC-GBP'\n",
        "\n",
        "start_date = (datetime.datetime.now() - datetime.timedelta(days=365)).strftime(\"%m-%d-%Y\")       \n",
        "df = web.DataReader(stock, data_source='yahoo', start=start_date)\n",
        "\n",
        "\n",
        "import matplotlib.pyplot as plt\n",
        "plt.plot(df['Close'])"
      ],
      "execution_count": 6,
      "outputs": [
        {
          "output_type": "execute_result",
          "data": {
            "text/plain": [
              "[<matplotlib.lines.Line2D at 0x7f967e2d0320>]"
            ]
          },
          "metadata": {
            "tags": []
          },
          "execution_count": 6
        },
        {
          "output_type": "display_data",
          "data": {
            "image/png": "[encoded data removed]",
            "text/plain": [
              "<Figure size 432x288 with 1 Axes>"
            ]
          },
          "metadata": {
            "tags": [],
            "needs_background": "light"
          }
        }
      ]
    },
    {
      "cell_type": "code",
      "metadata": {
        "id": "HTETMEAyss9V",
        "colab_type": "code",
        "colab": {
          "base_uri": "https://localhost:8080/",
          "height": 428
        },
        "outputId": "f14500f6-d2c9-48c9-b007-7941909b522b"
      },
      "source": [
        "df"
      ],
      "execution_count": 7,
      "outputs": [
        {
          "output_type": "execute_result",
          "data": {
            "text/html": [
              "<div>\n",
              "<style scoped>\n",
              "    .dataframe tbody tr th:only-of-type {\n",
              "        vertical-align: middle;\n",
              "    }\n",
              "\n",
              "    .dataframe tbody tr th {\n",
              "        vertical-align: top;\n",
              "    }\n",
              "\n",
              "    .dataframe thead th {\n",
              "        text-align: right;\n",
              "    }\n",
              "</style>\n",
              "<table border=\"1\" class=\"dataframe\">\n",
              "  <thead>\n",
              "    <tr style=\"text-align: right;\">\n",
              "      <th></th>\n",
              "      <th>High</th>\n",
              "      <th>Low</th>\n",
              "      <th>Open</th>\n",
              "      <th>Close</th>\n",
              "      <th>Volume</th>\n",
              "      <th>Adj Close</th>\n",
              "    </tr>\n",
              "    <tr>\n",
              "      <th>Date</th>\n",
              "      <th></th>\n",
              "      <th></th>\n",
              "      <th></th>\n",
              "      <th></th>\n",
              "      <th></th>\n",
              "      <th></th>\n",
              "    </tr>\n",
              "  </thead>\n",
              "  <tbody>\n",
              "    <tr>\n",
              "      <th>2019-08-16</th>\n",
              "      <td>8602.980469</td>\n",
              "      <td>8301.806641</td>\n",
              "      <td>8525.694336</td>\n",
              "      <td>8421.185547</td>\n",
              "      <td>1.133994e+10</td>\n",
              "      <td>8421.185547</td>\n",
              "    </tr>\n",
              "    <tr>\n",
              "      <th>2019-08-17</th>\n",
              "      <td>8630.649414</td>\n",
              "      <td>8328.470703</td>\n",
              "      <td>8422.224609</td>\n",
              "      <td>8509.428711</td>\n",
              "      <td>1.069235e+10</td>\n",
              "      <td>8509.428711</td>\n",
              "    </tr>\n",
              "    <tr>\n",
              "      <th>2019-08-18</th>\n",
              "      <td>9001.377930</td>\n",
              "      <td>8487.921875</td>\n",
              "      <td>8512.601562</td>\n",
              "      <td>9001.377930</td>\n",
              "      <td>1.322515e+10</td>\n",
              "      <td>9001.377930</td>\n",
              "    </tr>\n",
              "    <tr>\n",
              "      <th>2019-08-19</th>\n",
              "      <td>9024.697266</td>\n",
              "      <td>8749.343750</td>\n",
              "      <td>9000.844727</td>\n",
              "      <td>8850.617188</td>\n",
              "      <td>1.237816e+10</td>\n",
              "      <td>8850.617188</td>\n",
              "    </tr>\n",
              "    <tr>\n",
              "      <th>2019-08-20</th>\n",
              "      <td>8899.384766</td>\n",
              "      <td>8217.352539</td>\n",
              "      <td>8850.513672</td>\n",
              "      <td>8357.148438</td>\n",
              "      <td>1.605235e+10</td>\n",
              "      <td>8357.148438</td>\n",
              "    </tr>\n",
              "    <tr>\n",
              "      <th>...</th>\n",
              "      <td>...</td>\n",
              "      <td>...</td>\n",
              "      <td>...</td>\n",
              "      <td>...</td>\n",
              "      <td>...</td>\n",
              "      <td>...</td>\n",
              "    </tr>\n",
              "    <tr>\n",
              "      <th>2020-08-11</th>\n",
              "      <td>8998.649414</td>\n",
              "      <td>8625.061523</td>\n",
              "      <td>8737.894531</td>\n",
              "      <td>8880.038086</td>\n",
              "      <td>1.921238e+10</td>\n",
              "      <td>8880.038086</td>\n",
              "    </tr>\n",
              "    <tr>\n",
              "      <th>2020-08-12</th>\n",
              "      <td>9026.142578</td>\n",
              "      <td>8573.526367</td>\n",
              "      <td>8882.698242</td>\n",
              "      <td>9016.762695</td>\n",
              "      <td>2.105891e+10</td>\n",
              "      <td>9016.762695</td>\n",
              "    </tr>\n",
              "    <tr>\n",
              "      <th>2020-08-13</th>\n",
              "      <td>9281.949219</td>\n",
              "      <td>8923.119141</td>\n",
              "      <td>9007.979492</td>\n",
              "      <td>8993.135742</td>\n",
              "      <td>1.852134e+10</td>\n",
              "      <td>8993.135742</td>\n",
              "    </tr>\n",
              "    <tr>\n",
              "      <th>2020-08-14</th>\n",
              "      <td>9141.633789</td>\n",
              "      <td>8993.002930</td>\n",
              "      <td>8993.002930</td>\n",
              "      <td>9067.125977</td>\n",
              "      <td>1.784657e+10</td>\n",
              "      <td>9067.125977</td>\n",
              "    </tr>\n",
              "    <tr>\n",
              "      <th>2020-08-16</th>\n",
              "      <td>9114.690430</td>\n",
              "      <td>8978.399414</td>\n",
              "      <td>9066.106445</td>\n",
              "      <td>9042.361328</td>\n",
              "      <td>1.633395e+10</td>\n",
              "      <td>9042.361328</td>\n",
              "    </tr>\n",
              "  </tbody>\n",
              "</table>\n",
              "<p>365 rows × 6 columns</p>\n",
              "</div>"
            ],
            "text/plain": [
              "                   High          Low  ...        Volume    Adj Close\n",
              "Date                                  ...                           \n",
              "2019-08-16  8602.980469  8301.806641  ...  1.133994e+10  8421.185547\n",
              "2019-08-17  8630.649414  8328.470703  ...  1.069235e+10  8509.428711\n",
              "2019-08-18  9001.377930  8487.921875  ...  1.322515e+10  9001.377930\n",
              "2019-08-19  9024.697266  8749.343750  ...  1.237816e+10  8850.617188\n",
              "2019-08-20  8899.384766  8217.352539  ...  1.605235e+10  8357.148438\n",
              "...                 ...          ...  ...           ...          ...\n",
              "2020-08-11  8998.649414  8625.061523  ...  1.921238e+10  8880.038086\n",
              "2020-08-12  9026.142578  8573.526367  ...  2.105891e+10  9016.762695\n",
              "2020-08-13  9281.949219  8923.119141  ...  1.852134e+10  8993.135742\n",
              "2020-08-14  9141.633789  8993.002930  ...  1.784657e+10  9067.125977\n",
              "2020-08-16  9114.690430  8978.399414  ...  1.633395e+10  9042.361328\n",
              "\n",
              "[365 rows x 6 columns]"
            ]
          },
          "metadata": {
            "tags": []
          },
          "execution_count": 7
        }
      ]
    },
    {
      "cell_type": "markdown",
      "metadata": {
        "id": "kVGa1WT14C6M",
        "colab_type": "text"
      },
      "source": [
        "# Connect with Luno account (using Luno API)"
      ]
    },
    {
      "cell_type": "code",
      "metadata": {
        "id": "vUclZRjSCUTZ",
        "colab_type": "code",
        "colab": {
          "base_uri": "https://localhost:8080/",
          "height": 53
        },
        "outputId": "6929df8e-6ab5-444b-f4d1-415f39483ed1"
      },
      "source": [
        "from luno_python.client import Client\n",
        "c = Client(api_key_id='', api_key_secret='')\n",
        "try:\n",
        "  ticker = c.get_ticker(pair='XBTGBP')\n",
        "  print(ticker)\n",
        "except Exception as e:\n",
        "  print(e)\n",
        "\n",
        "ticker['last_trade']"
      ],
      "execution_count": 8,
      "outputs": [
        {
          "output_type": "stream",
          "text": [
            "{'pair': 'XBTGBP', 'timestamp': 1597590262608, 'bid': '9026.82', 'ask': '9047.94', 'last_trade': '9069.66', 'rolling_24_hour_volume': '0.1703', 'status': 'ACTIVE'}\n"
          ],
          "name": "stdout"
        },
        {
          "output_type": "execute_result",
          "data": {
            "application/vnd.google.colaboratory.intrinsic+json": {
              "type": "string"
            },
            "text/plain": [
              "'9069.66'"
            ]
          },
          "metadata": {
            "tags": []
          },
          "execution_count": 8
        }
      ]
    },
    {
      "cell_type": "markdown",
      "metadata": {
        "id": "91EWVZdl9QGt",
        "colab_type": "text"
      },
      "source": [
        "## Get market depth\n",
        "\n"
      ]
    },
    {
      "cell_type": "code",
      "metadata": {
        "id": "pcFt30e58JDV",
        "colab_type": "code",
        "colab": {
          "base_uri": "https://localhost:8080/",
          "height": 408
        },
        "outputId": "10ab5515-816f-490f-a4c8-76a9f204ab5a"
      },
      "source": [
        "res = c.get_order_book(pair='XBTGBP')\n",
        "res\n"
      ],
      "execution_count": 9,
      "outputs": [
        {
          "output_type": "execute_result",
          "data": {
            "text/plain": [
              "{'asks': [{'price': '9047.94', 'volume': '0.9594'},\n",
              "  {'price': '9048.39', 'volume': '1.8532'},\n",
              "  {'price': '9149.99', 'volume': '1.8045'},\n",
              "  {'price': '9150.00', 'volume': '0.0023'},\n",
              "  {'price': '9310.00', 'volume': '0.0113'},\n",
              "  {'price': '9500.00', 'volume': '0.0023'},\n",
              "  {'price': '15000.00', 'volume': '0.0737'}],\n",
              " 'bids': [{'price': '9026.82', 'volume': '0.0869'},\n",
              "  {'price': '9024.16', 'volume': '0.962'},\n",
              "  {'price': '8750.00', 'volume': '0.0262'},\n",
              "  {'price': '8650.00', 'volume': '0.0512'},\n",
              "  {'price': '8502.00', 'volume': '0.0235'},\n",
              "  {'price': '8500.00', 'volume': '0.0754'},\n",
              "  {'price': '7700.01', 'volume': '0.0439'},\n",
              "  {'price': '7700.00', 'volume': '0.0029'},\n",
              "  {'price': '7550.00', 'volume': '0.0266'},\n",
              "  {'price': '7300.00', 'volume': '0.0142'},\n",
              "  {'price': '7200.00', 'volume': '0.0073'},\n",
              "  {'price': '7102.00', 'volume': '0.0899'},\n",
              "  {'price': '7089.00', 'volume': '0.0113'},\n",
              "  {'price': '6500.01', 'volume': '0.0015'}],\n",
              " 'timestamp': 1597590263087}"
            ]
          },
          "metadata": {
            "tags": []
          },
          "execution_count": 9
        }
      ]
    },
    {
      "cell_type": "markdown",
      "metadata": {
        "id": "ye90gbYbyHyx",
        "colab_type": "text"
      },
      "source": [
        "# Functions (enter trades)"
      ]
    },
    {
      "cell_type": "code",
      "metadata": {
        "id": "WGFIwMXqbDjw",
        "colab_type": "code",
        "colab": {
          "base_uri": "https://localhost:8080/",
          "height": 36
        },
        "outputId": "9128ec2c-f8f2-415e-e20e-bfbcb579c543"
      },
      "source": [
        "balance = c.get_balances(assets=['XBT','GBP'])\n",
        "balBTC = balance['balance'][0]['balance']\n",
        "balGBP = balance['balance'][1]['balance']\n",
        "balGBP"
      ],
      "execution_count": 10,
      "outputs": [
        {
          "output_type": "execute_result",
          "data": {
            "application/vnd.google.colaboratory.intrinsic+json": {
              "type": "string"
            },
            "text/plain": [
              "'15.636743'"
            ]
          },
          "metadata": {
            "tags": []
          },
          "execution_count": 10
        }
      ]
    },
    {
      "cell_type": "code",
      "metadata": {
        "id": "Qs7ltmPDbFUy",
        "colab_type": "code",
        "colab": {}
      },
      "source": [
        "enter_trade = True"
      ],
      "execution_count": 11,
      "outputs": []
    },
    {
      "cell_type": "code",
      "metadata": {
        "id": "ZzSM7HhNyN0v",
        "colab_type": "code",
        "colab": {}
      },
      "source": [
        "pair = 'XBTBGP'\n",
        "\n",
        "price = ticker['last_trade']\n",
        "\n",
        "# This function places a market order in the direction BuySell, \"B\" = Buy, \"S\" = Sell, uses symbol, amount, stop, limit\n",
        "def enter(BuySell):\n",
        "    global enter_trade\n",
        "\n",
        "    if BuySell == 'B':\n",
        "      '''\n",
        "      if enter_trade == True:\n",
        "          print(\"Havent close previous position\")\n",
        "      else:\n",
        "      '''\n",
        "      try:\n",
        "          #c.post_market_order(pair='XBTGBP', type='SELL', base_volume='0.0023')\n",
        "          if (price == float(res['asks'][0]['price'])):\n",
        "              c.post_market_order(pair='XBTGBP', type='BUY', counter_volume='21')\n",
        "              print(\"Buy Successfully at price: \", res['asks'][0]['price'])\n",
        "              enter_trade = True\n",
        "          else:\n",
        "              c.post_limit_order(pair='XBTGBP', type='BID', volume='0.0023', price = str(float(price)))\n",
        "              print(\"Post limit order, buy at price: \", price)\n",
        "              enter_trade = True\n",
        "\n",
        "      except Exception as e:\n",
        "          print(e)\n",
        "          enter_trade = False\n",
        "\n",
        "    if BuySell == 'S':\n",
        "      '''\n",
        "      if enter_trade == False:\n",
        "          print(\"Havent entered the market, all positions are closed\")\n",
        "      else:\n",
        "      '''\n",
        "      try:\n",
        "          #c.post_market_order(pair='XBTGBP', type='BUY', counter_volume='10')\n",
        "          if (price == float(res['bids'][0]['price'])):\n",
        "              c.post_market_order(pair='XBTGBP', type='SELL', base_volume='0.0023')\n",
        "              print(\"Sell Successfully at price.\", res['bids'][0]['price'])\n",
        "              enter_trade = False\n",
        "          else:\n",
        "              c.post_limit_order(pair='XBTGBP', type='ASK', volume='0.0023', price = str(float(price)))\n",
        "              print(\"Post limit order, sell at price.\", price)\n",
        "              enter_trade = False\n",
        "      except Exception as e:\n",
        "        print(e)\n",
        "        enter_trade = True"
      ],
      "execution_count": 12,
      "outputs": []
    },
    {
      "cell_type": "markdown",
      "metadata": {
        "id": "nnyr4ECnQqHE",
        "colab_type": "text"
      },
      "source": [
        "# RSI logic (set up and install)"
      ]
    },
    {
      "cell_type": "code",
      "metadata": {
        "id": "lqWSxs0P9Nhq",
        "colab_type": "code",
        "colab": {
          "base_uri": "https://localhost:8080/",
          "height": 266
        },
        "outputId": "8aaf8de1-35d1-49ec-a8d3-edfc8c29a03c"
      },
      "source": [
        "!pip install tulipy\n",
        "import tulipy as ti\n",
        "\n",
        "rsiPeriod = 14\n",
        "upper_rsi = 70.0\n",
        "lower_rsi = 30.0"
      ],
      "execution_count": 13,
      "outputs": [
        {
          "output_type": "stream",
          "text": [
            "Collecting tulipy\n",
            "\u001b[?25l  Downloading https://files.pythonhosted.org/packages/2c/fc/685a3fe73a66ed35332058c2e22b2ed63b7725ec32817753f11c06f48792/tulipy-0.4.0.tar.gz (110kB)\n",
            "\r\u001b[K     |███                             | 10kB 10.4MB/s eta 0:00:01\r\u001b[K     |██████                          | 20kB 2.2MB/s eta 0:00:01\r\u001b[K     |█████████                       | 30kB 2.9MB/s eta 0:00:01\r\u001b[K     |███████████▉                    | 40kB 3.2MB/s eta 0:00:01\r\u001b[K     |██████████████▉                 | 51kB 2.5MB/s eta 0:00:01\r\u001b[K     |█████████████████▉              | 61kB 2.7MB/s eta 0:00:01\r\u001b[K     |████████████████████▉           | 71kB 3.0MB/s eta 0:00:01\r\u001b[K     |███████████████████████▊        | 81kB 3.3MB/s eta 0:00:01\r\u001b[K     |██████████████████████████▊     | 92kB 3.5MB/s eta 0:00:01\r\u001b[K     |█████████████████████████████▊  | 102kB 3.4MB/s eta 0:00:01\r\u001b[K     |████████████████████████████████| 112kB 3.4MB/s \n",
            "\u001b[?25h  Installing build dependencies ... \u001b[?25l\u001b[?25hdone\n",
            "  Getting requirements to build wheel ... \u001b[?25l\u001b[?25hdone\n",
            "    Preparing wheel metadata ... \u001b[?25l\u001b[?25hdone\n",
            "Requirement already satisfied: numpy in /usr/local/lib/python3.6/dist-packages (from tulipy) (1.18.5)\n",
            "Building wheels for collected packages: tulipy\n",
            "  Building wheel for tulipy (PEP 517) ... \u001b[?25l\u001b[?25hdone\n",
            "  Created wheel for tulipy: filename=tulipy-0.4.0-cp36-cp36m-linux_x86_64.whl size=227065 sha256=e44d7e3768c9deb3df44697cbe7cdaf016567b281e35c5af03249f499d2cf0da\n",
            "  Stored in directory: /root/.cache/pip/wheels/c7/17/ad/a187769379c3b970acfd4aabe82e8e2b4dfca2b518a26de957\n",
            "Successfully built tulipy\n",
            "Installing collected packages: tulipy\n",
            "Successfully installed tulipy-0.4.0\n"
          ],
          "name": "stdout"
        }
      ]
    },
    {
      "cell_type": "markdown",
      "metadata": {
        "id": "BMQSvS6uQ_BZ",
        "colab_type": "text"
      },
      "source": [
        "# Main function that run every 45 minute \n",
        "to check the price, RSI line and generate run/buy signal when RSI cross (using the functions above)"
      ]
    },
    {
      "cell_type": "code",
      "metadata": {
        "id": "j4a1pHLdL2yj",
        "colab_type": "code",
        "colab": {
          "base_uri": "https://localhost:8080/",
          "height": 790
        },
        "outputId": "dcb63ead-aec5-4912-c11b-ce03b072a2aa"
      },
      "source": [
        "import sched, time\n",
        "import numpy as np\n",
        "\n",
        "\n",
        "#Initiate our scheduler so we can keep checking every minute for new price changes\n",
        "s = sched.scheduler(time.time, time.sleep)\n",
        "\n",
        "# This function is run every 5 minutes\n",
        "\n",
        "def run(sc): \n",
        "\n",
        "    #Get prices from Luno, retrieve prices data\n",
        "    res = c.get_order_book(pair='XBTGBP')\n",
        "    closePrices = c.list_trades(pair='XBTGBP')\n",
        "    pricedata = []\n",
        "\n",
        "    for x in range(0,len(closePrices['trades'])):\n",
        "        pricedata.append(float(closePrices['trades'][x]['price']))\n",
        "    DATA = np.array(pricedata)\n",
        "\n",
        "    askdata = []\n",
        "    for x in range(0,len(res['asks'])):\n",
        "        askdata.append(float(res['asks'][x]['price']))\n",
        "    DATAA = np.array(askdata)\n",
        "\n",
        "    biddata = []\n",
        "    for x in range(0,len(res['bids'])):\n",
        "        biddata.append(float(res['bids'][x]['price']))\n",
        "    DATAB = np.array(biddata)\n",
        "\n",
        "    #Calculate Indicators\n",
        "\n",
        "    BB = ti.bbands(DATA, period=20, stddev=2)\n",
        "    BB1 = ti.bbands(DATA, period=20, stddev=1)\n",
        "    MA = ti.sma(DATA, period=5)\n",
        "    MAA = ti.sma(DATAA, period=3)\n",
        "    MAB = ti.sma(DATAB, period=5)\n",
        "\n",
        "    # TRADING LOGIC\n",
        "    current_price = pricedata[0]\n",
        "    \n",
        "    '''\n",
        "    # Trading logic based on Moving Average line\n",
        "    if (MAB[0] < current_price < MA[0]) or (current_price <BB[0][0]):\n",
        "        print(\"Buying, price is low!\")\n",
        "        enter(\"B\")\n",
        "   \n",
        "    if (MA[0] < current_price < MAA[0]) or (current_price > BB[2][0]):\n",
        "        print(\"Selling, price is high!\")\n",
        "        enter(\"S\")\n",
        "    '''\n",
        "    #Trading logic based on Bollinger Band line\n",
        "    if (BB[1][0] > current_price > BB1[0][0]):\n",
        "        print(\"Buying, price is low!\")\n",
        "        enter(\"B\")\n",
        "\n",
        "    if (BB[1][0] < current_price < BB1[2][0]):\n",
        "        print(\"Selling, price is high!\")\n",
        "        enter(\"S\")\n",
        "    \n",
        "    if (BB1[0][0] > current_price > BB[0][0]):\n",
        "        print(\"Price might go down, sell to cut lost\")\n",
        "        enter(\"S\")\n",
        "\n",
        "    if (BB1[2][0] < current_price < BB[2][0]):\n",
        "        print(\"Price might go up, buy now\")\n",
        "        enter(\"B\")\n",
        "\n",
        "\n",
        "    print(\"Current price: \", pricedata[0]) \n",
        "    \n",
        "    print(\"MA bid(low): \", MAB[0])\n",
        "    print(\"MA middle: \", MA[0])\n",
        "    print(\"MA ask(high): \", MAA[0])\n",
        "\n",
        "    print(\"-------------\")\n",
        "\n",
        "    print(\"BBand upper \", BB[2][0])\n",
        "    print(\"BBand up: \", BB1[2][0])\n",
        "    print(\"BBand middle: \", BB[1][0])\n",
        "    print(\"BBand low: \", BB1[0][0])\n",
        "    print(\"BBand lower: \", BB[0][0])\n",
        "\n",
        "   \n",
        "\n",
        "  \n",
        "    print(\"                               Bot working, checking...\")\n",
        "\n",
        "    #call this method again every 45 minutes for new price changes\n",
        "    s.enter(2500, 1, run, (sc,))\n",
        "    \n",
        "s.enter(1, 1, run, (s,))\n",
        "\n",
        "s.run()"
      ],
      "execution_count": 14,
      "outputs": [
        {
          "output_type": "stream",
          "text": [
            "Buying, price is low!\n",
            "('ErrInsufficientBalance', 'Insufficient balance.')\n",
            "Current price:  9069.66\n",
            "MA bid(low):  8791.066\n",
            "MA middle:  9035.248\n",
            "MA ask(high):  9084.029999999999\n",
            "-------------\n",
            "BBand upper  9137.609262806207\n",
            "BBand up:  9105.426631403103\n",
            "BBand middle:  9073.243999999999\n",
            "BBand low:  9041.061368596895\n",
            "BBand lower:  9008.87873719379\n",
            "                               Bot working, checking...\n",
            "Buying, price is low!\n",
            "('ErrInsufficientBalance', 'Insufficient balance.')\n",
            "Current price:  9054.34\n",
            "MA bid(low):  8911.486\n",
            "MA middle:  9062.402\n",
            "MA ask(high):  9124.286666666667\n",
            "-------------\n",
            "BBand upper  9137.066237789213\n",
            "BBand up:  9104.277618894606\n",
            "BBand middle:  9071.489\n",
            "BBand low:  9038.700381105393\n",
            "BBand lower:  9005.911762210786\n",
            "                               Bot working, checking...\n"
          ],
          "name": "stdout"
        },
        {
          "output_type": "error",
          "ename": "KeyboardInterrupt",
          "evalue": "ignored",
          "traceback": [
            "\u001b[0;31m---------------------------------------------------------------------------\u001b[0m",
            "\u001b[0;31mKeyboardInterrupt\u001b[0m                         Traceback (most recent call last)",
            "\u001b[0;32m<ipython-input-14-86e4634ce75c>\u001b[0m in \u001b[0;36m<module>\u001b[0;34m()\u001b[0m\n\u001b[1;32m     92\u001b[0m \u001b[0ms\u001b[0m\u001b[0;34m.\u001b[0m\u001b[0menter\u001b[0m\u001b[0;34m(\u001b[0m\u001b[0;36m1\u001b[0m\u001b[0;34m,\u001b[0m \u001b[0;36m1\u001b[0m\u001b[0;34m,\u001b[0m \u001b[0mrun\u001b[0m\u001b[0;34m,\u001b[0m \u001b[0;34m(\u001b[0m\u001b[0ms\u001b[0m\u001b[0;34m,\u001b[0m\u001b[0;34m)\u001b[0m\u001b[0;34m)\u001b[0m\u001b[0;34m\u001b[0m\u001b[0;34m\u001b[0m\u001b[0m\n\u001b[1;32m     93\u001b[0m \u001b[0;34m\u001b[0m\u001b[0m\n\u001b[0;32m---> 94\u001b[0;31m \u001b[0ms\u001b[0m\u001b[0;34m.\u001b[0m\u001b[0mrun\u001b[0m\u001b[0;34m(\u001b[0m\u001b[0;34m)\u001b[0m\u001b[0;34m\u001b[0m\u001b[0;34m\u001b[0m\u001b[0m\n\u001b[0m",
            "\u001b[0;32m/usr/lib/python3.6/sched.py\u001b[0m in \u001b[0;36mrun\u001b[0;34m(self, blocking)\u001b[0m\n\u001b[1;32m    150\u001b[0m                 \u001b[0;32mif\u001b[0m \u001b[0;32mnot\u001b[0m \u001b[0mblocking\u001b[0m\u001b[0;34m:\u001b[0m\u001b[0;34m\u001b[0m\u001b[0;34m\u001b[0m\u001b[0m\n\u001b[1;32m    151\u001b[0m                     \u001b[0;32mreturn\u001b[0m \u001b[0mtime\u001b[0m \u001b[0;34m-\u001b[0m \u001b[0mnow\u001b[0m\u001b[0;34m\u001b[0m\u001b[0;34m\u001b[0m\u001b[0m\n\u001b[0;32m--> 152\u001b[0;31m                 \u001b[0mdelayfunc\u001b[0m\u001b[0;34m(\u001b[0m\u001b[0mtime\u001b[0m \u001b[0;34m-\u001b[0m \u001b[0mnow\u001b[0m\u001b[0;34m)\u001b[0m\u001b[0;34m\u001b[0m\u001b[0;34m\u001b[0m\u001b[0m\n\u001b[0m\u001b[1;32m    153\u001b[0m             \u001b[0;32melse\u001b[0m\u001b[0;34m:\u001b[0m\u001b[0;34m\u001b[0m\u001b[0;34m\u001b[0m\u001b[0m\n\u001b[1;32m    154\u001b[0m                 \u001b[0maction\u001b[0m\u001b[0;34m(\u001b[0m\u001b[0;34m*\u001b[0m\u001b[0margument\u001b[0m\u001b[0;34m,\u001b[0m \u001b[0;34m**\u001b[0m\u001b[0mkwargs\u001b[0m\u001b[0;34m)\u001b[0m\u001b[0;34m\u001b[0m\u001b[0;34m\u001b[0m\u001b[0m\n",
            "\u001b[0;31mKeyboardInterrupt\u001b[0m: "
          ]
        }
      ]
    }
  ]
}